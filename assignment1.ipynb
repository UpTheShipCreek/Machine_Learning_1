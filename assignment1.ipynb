{
 "cells": [
  {
   "cell_type": "markdown",
   "id": "4e228363",
   "metadata": {},
   "source": [
    "# <div style=\"text-align:center\"> 1η Εργασία: Τα βασικά της μηχανικής μάθησης </div>"
   ]
  },
  {
   "cell_type": "markdown",
   "id": "7664fae4",
   "metadata": {},
   "source": [
    "#### <div style=\"text-align:center\">  Παναγιώτοπουλος Γεώργιος **1115201700113** </div>"
   ]
  },
  {
   "cell_type": "markdown",
   "id": "9b61db7a",
   "metadata": {},
   "source": [
    "### <a href=\"#Ask1\"><div style=\"text-align:center\"> [Ερώτημα 1: Πράξεις με Διανύσματα και Πίνακες] </div></a>\n",
    "Η εξοικείωση με το λογισμό διανυσμάτων και πινάκων είναι απαραίτητη για την κατανόηση \n",
    "και την υλοποίηση αλγορίθμων μηχανικής μάθησης.<br> Για το σκοπό αυτό, καλείστε να \n",
    "απαντήσετε στα παρακάτω ερωτήματα.<br> Χρησιμοποιώντας το πακέτο random της NumPy να δημιουργήσετε: <br>\n",
    "* Δύο τυχαίους πίνακες ακέραιων αριθμών $X \\in Z^{3\\times4}$ και $Y \\in Z^{4\\times3}$ <br>\n",
    "* Δύο τυχαία διανύσματα ακέραιων αριθμών $a \\in Z^{4}$ και $b \\in Z^{4}$ <br>"
   ]
  },
  {
   "cell_type": "code",
   "execution_count": 33,
   "id": "5fc74f33",
   "metadata": {},
   "outputs": [],
   "source": [
    "import numpy as np"
   ]
  },
  {
   "cell_type": "code",
   "execution_count": 40,
   "id": "9c83313a",
   "metadata": {},
   "outputs": [],
   "source": [
    "#Just for documentation purposes\n",
    "#np.random.seed(113)\n",
    "# X = np.random.randint(10,size=(3,4))\n",
    "# Y = np.random.randint(10,size=(4,3))\n",
    "# a = np.random.randint(10,size=(4))\n",
    "# b = np.random.randint(10,size=(4))"
   ]
  },
  {
   "cell_type": "code",
   "execution_count": 35,
   "id": "3342c7ec",
   "metadata": {},
   "outputs": [],
   "source": [
    "X = np.array([[5, 7, 8, 9],\n",
    "              [7, 7, 1, 1],\n",
    "              [9, 7, 4, 7]])\n",
    "\n",
    "Y = np.array([[0, 7, 5],\n",
    "              [3, 9, 5],\n",
    "              [4, 3, 1],\n",
    "              [7, 5, 5]])\n",
    "\n",
    "a = np.array([4, 4, 7, 6])\n",
    "\n",
    "b = np.array([4, 6, 6, 4])\n"
   ]
  },
  {
   "cell_type": "markdown",
   "id": "e77f7e96",
   "metadata": {},
   "source": [
    " ###  <div style=\"text-align:center\"> Οι τυχαίοι πίνακες και διανύσματα </div>\n",
    "$$\n",
    "X = \n",
    "\\begin{bmatrix}\n",
    "5 & 7 & 8 & 9 \\\\\n",
    "7 & 7 & 1 & 1 \\\\\n",
    "9 & 7 & 4 & 7 \\\\\n",
    "\\end{bmatrix}\n",
    "$$\n",
    "\n",
    "$$\n",
    "Y=\\begin{bmatrix}\n",
    "0 & 7 & 5 \\\\\n",
    "3 & 9 & 5 \\\\\n",
    "4 & 3 & 1 \\\\\n",
    "7 & 5 & 5 \\\\\n",
    "\\end{bmatrix}\n",
    "$$\n",
    "\n",
    "$$\n",
    "a =\\begin{bmatrix}\n",
    "4 & 4 & 7 & 6\n",
    "\\end{bmatrix}\n",
    "$$\n",
    "\n",
    "$$\n",
    "b=\\begin{bmatrix}\n",
    "4 & 6 & 6 & 4\n",
    "\\end{bmatrix}\n",
    "$$\n"
   ]
  },
  {
   "cell_type": "markdown",
   "id": "92a86637",
   "metadata": {},
   "source": [
    "###  <a id=\"Ask1\">[Ερώτημα 1]</a>\n",
    "<a href=\"#1.1\">1.1</a> Να υπολογίσετε το εσωτερικό γινόμενο των διανυσμάτων $a$ και $b$, δηλαδή $a^{T}b$ <br>\n",
    "<a href=\"#1.2\">1.2</a> Να υπολογίσετε το γινόμενο πίνακα-διανύσματος $Xa \\in Z^{3}$ <br>\n",
    "<a href=\"#1.3\">1.3</a> Να υπολογίσετε το γινόμενο πινάκων $XY \\in Z^{3\\times3}$ <br>\n",
    "<a href=\"#1.4\">1.4</a> Να υπολογίσετε την Ευκλείδεια νόρμα (l2-norm) του διανύσματος $a$ <br>\n",
    "Στις παραπάνω ερωτήσεις καλείστε να εκτελέστε τους υπολογισμούς αναλυτικά βήμα προς \n",
    "βήμα με το χέρι, παραθέτοντας όλα τα ενδιάμεσα βήματα και να επιβεβαιώστε τα \n",
    "αποτελέσματα με τη χρήση της NumPy. "
   ]
  },
  {
   "cell_type": "markdown",
   "id": "05a457b1",
   "metadata": {},
   "source": [
    "<a id = \"1.1\">1.1</a> <br>\n",
    "$$\n",
    "a^{T} b = \n",
    "\\begin{bmatrix}\n",
    "4 \\\\ 4 \\\\ 7 \\\\ 6 \n",
    "\\end{bmatrix} *\n",
    "\\begin{bmatrix}\n",
    "4 & 6 & 6 & 4\n",
    "\\end{bmatrix} = 4*4 + 4*6 + 7*6 + 4*6 = 16 + 24 + 42 + 24 = 106\n",
    "$$\n",
    "![1.1](https://i.imgur.com/VTneP6d.png)"
   ]
  },
  {
   "cell_type": "code",
   "execution_count": 36,
   "id": "a2e90c04",
   "metadata": {},
   "outputs": [
    {
     "name": "stdout",
     "output_type": "stream",
     "text": [
      "106\n"
     ]
    }
   ],
   "source": [
    "result1_1 = np.dot(a,b)\n",
    "print(result1_1)"
   ]
  },
  {
   "cell_type": "markdown",
   "id": "a8fb29af",
   "metadata": {},
   "source": [
    "<a id = \"1.2\">1.2</a> <br>\n",
    "<div style=\"text-align:center\"> Θα πολλαπλασιάσουμε με το transpose του $a$,<br> λογώ του τρόπου που ορίσαμε τα διανύσματα: </div>\n",
    "$$\n",
    "X a^{T} = \\begin{bmatrix}\n",
    "5 & 7 & 8 & 9 \\\\\n",
    "7 & 7 & 1 & 1 \\\\\n",
    "9 & 7 & 4 & 7 \\\\\n",
    "\\end{bmatrix} * \n",
    "\\begin{bmatrix}\n",
    "4 \\\\ 4 \\\\ 7 \\\\ 6\n",
    "\\end{bmatrix} = \n",
    "\\begin{bmatrix}\n",
    "5*4 + 7*4 + 8*7 + 9*6 \\\\\n",
    "7*4 + 7*4 + 1*7 + 1*6 \\\\\n",
    "9*4 + 7*4 + 4*7 + 7*6 \\\\\n",
    "\\end{bmatrix} =\n",
    "\\begin{bmatrix}\n",
    "20 + 28 + 56 + 56 \\\\\n",
    "28 + 28 + 7 + 6 \\\\\n",
    "36 + 28 + 28 + 42 \\\\\n",
    "\\end{bmatrix} =\n",
    "\\begin{bmatrix}\n",
    "158 \\\\\n",
    "69 \\\\\n",
    "134 \\\\\n",
    "\\end{bmatrix}\n",
    "$$ \n",
    "\n",
    "![1.2](https://i.imgur.com/kC264nu.png)"
   ]
  },
  {
   "cell_type": "code",
   "execution_count": 37,
   "id": "bcefc11b",
   "metadata": {},
   "outputs": [
    {
     "name": "stdout",
     "output_type": "stream",
     "text": [
      "[158  69 134]\n"
     ]
    }
   ],
   "source": [
    "result1_2 = np.dot(X,a)\n",
    "print(result1_2)"
   ]
  },
  {
   "cell_type": "markdown",
   "id": "504282b3",
   "metadata": {},
   "source": [
    "<a id = \"1.3\">1.3</a>\n",
    "$$\n",
    "X Y = \\begin{bmatrix}\n",
    "5 & 7 & 8 & 9 \\\\\n",
    "7 & 7 & 1 & 1 \\\\\n",
    "9 & 7 & 4 & 7 \\\\\n",
    "\\end{bmatrix} *\n",
    "\\begin{bmatrix}\n",
    "0 & 7 & 5 \\\\\n",
    "3 & 9 & 5 \\\\\n",
    "4 & 3 & 1 \\\\\n",
    "7 & 5 & 5 \\\\\n",
    "\\end{bmatrix}\n",
    "$$\n",
    "\n",
    "![1.3](https://i.imgur.com/FN68urd.jpg)"
   ]
  },
  {
   "cell_type": "code",
   "execution_count": 38,
   "id": "e24ed5ba",
   "metadata": {},
   "outputs": [
    {
     "name": "stdout",
     "output_type": "stream",
     "text": [
      "[[116 167 113]\n",
      " [ 32 120  76]\n",
      " [ 86 173 119]]\n"
     ]
    }
   ],
   "source": [
    "result1_3 = np.dot(X,Y)\n",
    "print(result1_3)"
   ]
  },
  {
   "cell_type": "markdown",
   "id": "abc85478",
   "metadata": {},
   "source": [
    "<a id = \"1.4\">1.4</a>\n",
    "$$\n",
    "||a||_{2} = \\sqrt{(4^{2}+4^{2}+7^{2}+6^{2})} = \\sqrt{16 + 16 + 49 + 36} = \\sqrt{117} \\approx 10.816653\n",
    "$$\n",
    "![1.4](https://i.imgur.com/JHXQpDf.jpg)"
   ]
  },
  {
   "cell_type": "code",
   "execution_count": 39,
   "id": "e02a2a03",
   "metadata": {},
   "outputs": [
    {
     "name": "stdout",
     "output_type": "stream",
     "text": [
      "10.816653826391969\n"
     ]
    }
   ],
   "source": [
    "result1_4 = np.linalg.norm(a, ord=2)\n",
    "print(result1_4)"
   ]
  },
  {
   "cell_type": "markdown",
   "id": "4c293a37",
   "metadata": {},
   "source": [
    "### <div style=\"text-align:center\"> [Ερώτημα 2: Υπολογισμός παραγώγων]  </div>\n",
    "<a href=\"#2.1\">2.1</a> Έστω $f(x) = x^{T}Ax + b^{T}x$ , μια συνάρτηση d μεταβλητών, με A συμμετρικό πίνακα (δηλ. $ A = A^{T}$) διάστασης d x d, και $b \\in \\mathbb{R}^{d}$ . Να υπολογίσετε αναλυτικά βήμα προς βήμα με το χέρι,\n",
    "την παράγωγο της $f(x)$ ως προς το διάνυσμα $x \\in \\mathbb{R}^{d}$ παραθέτωντας όλα τα ενδιάμεσα βήματα. <br>\n",
    "Υπενθιμίζεται ότι η παράγωγος μιας συνάρτησης $f:\\mathbb{R}^{d} → \\mathbb{R}, \\nabla f(x)$ ως προς το διάνυσμα $x \\in \\mathbb{R}^{d}$ είναι:\n",
    "$$ \\nabla f(x) = \\begin{bmatrix}\n",
    "\\frac{\\partial f(x)}{\\partial x_1} \\\\\n",
    ".\\\\.\\\\.\\\\\n",
    "\\frac{\\partial f(x)}{\\partial x_d}\n",
    "\\end{bmatrix} \\in \\mathbb{R}^{d} $$ <br>\n",
    "\n",
    "<a href=\"#2.2\">2.2</a> Έστω Α, Β, Χ πίνακες πραγματικών αριθμών διάστασης d x d με τάξη (rank) ίση με d. Nα βρείτε, αναλυτικά και σε κλειστή μορφή (closed form solution) το ολικό ελάχιστο του \n",
    "παρακάτω προβλήματος βελτιστοποίησης: <br>\n",
    "$$ min_{x} ||A - XB||^{2}_{F}$$\n",
    "Να εξηγήσετε με λεπτομέρεια όλη τη διαδικασία σκέψης που θα ακολουθήσετε και να \n",
    "παραθέσετε όλα τα ενδιάμεσα βήματα των πράξεων."
   ]
  },
  {
   "cell_type": "markdown",
   "id": "50c30e97",
   "metadata": {},
   "source": [
    "### <div style=\"text-align:center\"> [Ερώτημα 3: Gradient descent]  </div>\n",
    "Ο αλγόριθμος gradient descent είναι η πιο διαδεδομένη μέθοδος βελτιστοποίησης στη \n",
    "μηχανική μάθηση. Σε αυτό το ερώτημα καλείστε να υλοποιήσετε σε Python τον αλγόριθμο \n",
    "gradient descent για την ελαχιστοποίηση συναρτήσεων δύο μεταβλητών.\n",
    "Θεωρήστε τις παρακάτω συναρτήσεις:\n",
    "$f_{1}([x_{1},x_{2}]^{T}) = f_{1}(x_{1},x_{2}) = (x_{1} - 2)^{2} + (x_{2} - 3)^{2}$\n",
    "$f_{2}([x_{1},x_{2}]^{T}) = f_{2}(x_{1},x_{2}) = (1 - (x_{2} - 3))^{2} + 20 ((x_{1}+3) - (x_{2} - 3)^{2})^{2}$ <br>\n",
    "Nα υλοποιήσετε σε Python και να εκτελέστε τον αλγόριθμο gradient descent για κάθε \n",
    "συνάρτηση. <br>\n",
    "Να αρχικοποιήσετε τις μεταβλητές με μηδέν. Πρώτα, τρέξτε με ένα σταθερό ποσοστό \n",
    "εκμάθησης (learning rate) ίσο με 0.5. Να εκτελέστε Τ=10 επαναλήψεις και αναφέρετε την \n",
    "τιμή της συνάρτησης στο τέλος κάθε βήματος (επανάληψης). Χρησιμοποιώντας τη matplotlib\n",
    "να σχεδιάσετε γραφήματα (ένα για κάθε συνάρτηση) που να απεικονίζουν την τιμή της \n",
    "συνάρτησης (κάθετος άξονας) ως συνάρτηση των επαναλήψεων (οριζόντιος άξονας). <br>\n",
    "Στη συνέχεια, να επαναλάβετε τη διαδικασία για διαφορετικές τιμές του learning rate και \n",
    "του πλήθους επαναλήψεων (Τ) και αναφέρετε τα αποτελέσματά σας με τη μορφή \n",
    "γραφημάτων όπως στο παραπάνω σκέλος του ερωτήματος. <br>\n",
    "* Πόσες επαναλήψεις χρειάζεται ο αλγόριθμος για να συγκλίνει σε στάσιμο σημείο για \n",
    "διαφορετικές τιμές του learning rate για κάθε συνάρτηση;\n",
    "* Τι συμβαίνει για μεγάλες τιμές του learning rate; \n",
    "* Τι συμβαίνει για μικρές τιμές του learning rate;\n",
    "* Τι συμβαίνει αν χρησιμοποιήσετε διαφορετικές τιμές αρχικοποίησης των \n",
    "μεταβλητών;"
   ]
  }
 ],
 "metadata": {
  "celltoolbar": "Raw Cell Format",
  "kernelspec": {
   "display_name": "Python 3 (ipykernel)",
   "language": "python",
   "name": "python3"
  },
  "language_info": {
   "codemirror_mode": {
    "name": "ipython",
    "version": 3
   },
   "file_extension": ".py",
   "mimetype": "text/x-python",
   "name": "python",
   "nbconvert_exporter": "python",
   "pygments_lexer": "ipython3",
   "version": "3.11.2"
  }
 },
 "nbformat": 4,
 "nbformat_minor": 5
}
