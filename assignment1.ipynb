{
 "cells": [
  {
   "cell_type": "markdown",
   "id": "4e228363",
   "metadata": {},
   "source": [
    "# <div style=\"text-align:center\"> 1η Εργασία: Τα βασικά της μηχανικής μάθησης </div>"
   ]
  },
  {
   "cell_type": "markdown",
   "id": "7664fae4",
   "metadata": {},
   "source": [
    "#### <div style=\"text-align:center\">  Παναγιώτοπουλος Γεώργιος **1115201700113** </div>"
   ]
  },
  {
   "cell_type": "markdown",
   "id": "9b61db7a",
   "metadata": {},
   "source": [
    "### <a href=\"#Ask1\"><div style=\"text-align:center\"> [Ερώτημα 1: Πράξεις με Διανύσματα και Πίνακες] </div></a>\n",
    "Η εξοικείωση με το λογισμό διανυσμάτων και πινάκων είναι απαραίτητη για την κατανόηση \n",
    "και την υλοποίηση αλγορίθμων μηχανικής μάθησης.<br> Για το σκοπό αυτό, καλείστε να \n",
    "απαντήσετε στα παρακάτω ερωτήματα.<br> Χρησιμοποιώντας το πακέτο random της NumPy να δημιουργήσετε: <br>\n",
    "* Δύο τυχαίους πίνακες ακέραιων αριθμών $X \\in Z^{3\\times4}$ και $Y \\in Z^{4\\times3}$ <br>\n",
    "* Δύο τυχαία διανύσματα ακέραιων αριθμών $a \\in Z^{4}$ και $b \\in Z^{4}$ <br>"
   ]
  },
  {
   "cell_type": "code",
   "execution_count": 18,
   "id": "5fc74f33",
   "metadata": {},
   "outputs": [],
   "source": [
    "import numpy as np"
   ]
  },
  {
   "cell_type": "code",
   "execution_count": 19,
   "id": "9c83313a",
   "metadata": {},
   "outputs": [],
   "source": [
    "#Just for documentation purposes\n",
    "#np.random.seed(113)\n",
    "# X = np.random.randint(10,size=(3,4))\n",
    "# Y = np.random.randint(10,size=(4,3))\n",
    "# a = np.random.randint(10,size=(4))\n",
    "# b = np.random.randint(10,size=(4))"
   ]
  },
  {
   "cell_type": "code",
   "execution_count": 20,
   "id": "3342c7ec",
   "metadata": {},
   "outputs": [],
   "source": [
    "X = np.array([[5, 7, 8, 9],\n",
    "              [7, 7, 1, 1],\n",
    "              [9, 7, 4, 7]])\n",
    "\n",
    "Y = np.array([[0, 7, 5],\n",
    "              [3, 9, 5],\n",
    "              [4, 3, 1],\n",
    "              [7, 5, 5]])\n",
    "\n",
    "a = np.array([4, 4, 7, 6])\n",
    "\n",
    "b = np.array([4, 6, 6, 4])\n"
   ]
  },
  {
   "cell_type": "markdown",
   "id": "e77f7e96",
   "metadata": {},
   "source": [
    " ###  <div style=\"text-align:center\"> Οι τυχαίοι πίνακες και διανύσματα </div>\n",
    "$$\n",
    "X = \n",
    "\\begin{bmatrix}\n",
    "5 & 7 & 8 & 9 \\\\\n",
    "7 & 7 & 1 & 1 \\\\\n",
    "9 & 7 & 4 & 7 \\\\\n",
    "\\end{bmatrix}\n",
    "$$\n",
    "\n",
    "$$\n",
    "Y=\\begin{bmatrix}\n",
    "0 & 7 & 5 \\\\\n",
    "3 & 9 & 5 \\\\\n",
    "4 & 3 & 1 \\\\\n",
    "7 & 5 & 5 \\\\\n",
    "\\end{bmatrix}\n",
    "$$\n",
    "\n",
    "$$\n",
    "a =\\begin{bmatrix}\n",
    "4 & 4 & 7 & 6\n",
    "\\end{bmatrix}\n",
    "$$\n",
    "\n",
    "$$\n",
    "b=\\begin{bmatrix}\n",
    "4 & 6 & 6 & 4\n",
    "\\end{bmatrix}\n",
    "$$\n"
   ]
  },
  {
   "cell_type": "markdown",
   "id": "92a86637",
   "metadata": {},
   "source": [
    "###  <a id=\"Ask1\">[Ερώτημα 1]</a>\n",
    "<a href=\"#1.1\">1.1</a> Να υπολογίσετε το εσωτερικό γινόμενο των διανυσμάτων $a$ και $b$, δηλαδή $a^{T}b$ <br>\n",
    "<a href=\"#1.2\">1.2</a> Να υπολογίσετε το γινόμενο πίνακα-διανύσματος $Xa \\in Z^{3}$ <br>\n",
    "<a href=\"#1.3\">1.3</a> Να υπολογίσετε το γινόμενο πινάκων $XY \\in Z^{3\\times3}$ <br>\n",
    "<a href=\"#1.4\">1.4</a> Να υπολογίσετε την Ευκλείδεια νόρμα (l2-norm) του διανύσματος $a$ <br>\n",
    "Στις παραπάνω ερωτήσεις καλείστε να εκτελέστε τους υπολογισμούς αναλυτικά βήμα προς \n",
    "βήμα με το χέρι, παραθέτοντας όλα τα ενδιάμεσα βήματα και να επιβεβαιώστε τα \n",
    "αποτελέσματα με τη χρήση της NumPy. "
   ]
  },
  {
   "cell_type": "markdown",
   "id": "05a457b1",
   "metadata": {},
   "source": [
    "<a id = \"1.1\">1.1</a> <br>\n",
    "$$\n",
    "a^{T} b = \n",
    "\\begin{bmatrix}\n",
    "4 \\\\ 4 \\\\ 7 \\\\ 6 \n",
    "\\end{bmatrix} \\cdot\n",
    "\\begin{bmatrix}\n",
    "4 & 6 & 6 & 4\n",
    "\\end{bmatrix} = 4\\cdot4 + 4\\cdot6 + 7\\cdot6 + 4\\cdot6 = 16 + 24 + 42 + 24 = 106\n",
    "$$\n",
    "![1.1](https://i.imgur.com/VTneP6d.png)"
   ]
  },
  {
   "cell_type": "code",
   "execution_count": 21,
   "id": "a2e90c04",
   "metadata": {},
   "outputs": [
    {
     "name": "stdout",
     "output_type": "stream",
     "text": [
      "106\n"
     ]
    }
   ],
   "source": [
    "result1_1 = np.dot(a,b)\n",
    "print(result1_1)"
   ]
  },
  {
   "cell_type": "markdown",
   "id": "a8fb29af",
   "metadata": {},
   "source": [
    "<a id = \"1.2\">1.2</a> <br>\n",
    "<div style=\"text-align:center\"> Θα πολλαπλασιάσουμε με το transpose του $a$,<br> λογώ του τρόπου που ορίσαμε τα διανύσματα: </div>\n",
    "$$\n",
    "X a^{T} = \\begin{bmatrix}\n",
    "5 & 7 & 8 & 9 \\\\\n",
    "7 & 7 & 1 & 1 \\\\\n",
    "9 & 7 & 4 & 7 \\\\\n",
    "\\end{bmatrix} \\cdot \n",
    "\\begin{bmatrix}\n",
    "4 \\\\ 4 \\\\ 7 \\\\ 6\n",
    "\\end{bmatrix} = \n",
    "\\begin{bmatrix}\n",
    "5\\cdot4 + 7\\cdot4 + 8\\cdot7 + 9\\cdot6 \\\\\n",
    "7\\cdot4 + 7\\cdot4 + 1\\cdot7 + 1\\cdot6 \\\\\n",
    "9\\cdot4 + 7\\cdot4 + 4\\cdot7 + 7\\cdot6 \\\\\n",
    "\\end{bmatrix} =\n",
    "\\begin{bmatrix}\n",
    "20 + 28 + 56 + 56 \\\\\n",
    "28 + 28 + 7 + 6 \\\\\n",
    "36 + 28 + 28 + 42 \\\\\n",
    "\\end{bmatrix} =\n",
    "\\begin{bmatrix}\n",
    "158 \\\\\n",
    "69 \\\\\n",
    "134 \\\\\n",
    "\\end{bmatrix}\n",
    "$$ \n",
    "\n",
    "![1.2](https://i.imgur.com/kC264nu.png)"
   ]
  },
  {
   "cell_type": "code",
   "execution_count": 22,
   "id": "bcefc11b",
   "metadata": {},
   "outputs": [
    {
     "name": "stdout",
     "output_type": "stream",
     "text": [
      "[158  69 134]\n"
     ]
    }
   ],
   "source": [
    "result1_2 = np.dot(X,a)\n",
    "print(result1_2)"
   ]
  },
  {
   "cell_type": "markdown",
   "id": "504282b3",
   "metadata": {},
   "source": [
    "<a id = \"1.3\">1.3</a>\n",
    "$$\n",
    "X Y = \\begin{bmatrix}\n",
    "5 & 7 & 8 & 9 \\\\\n",
    "7 & 7 & 1 & 1 \\\\\n",
    "9 & 7 & 4 & 7 \\\\\n",
    "\\end{bmatrix} \\cdot\n",
    "\\begin{bmatrix}\n",
    "0 & 7 & 5 \\\\\n",
    "3 & 9 & 5 \\\\\n",
    "4 & 3 & 1 \\\\\n",
    "7 & 5 & 5 \\\\\n",
    "\\end{bmatrix}=\n",
    "\\begin{bmatrix}\n",
    "5\\cdot0 + 7\\cdot3 + 8\\cdot4 + 9\\cdot7 & 5\\cdot7 + 7\\cdot9 + 8\\cdot3 + 9\\cdot5 & 5\\cdot5 + 7\\cdot5 + 8\\cdot1 + 9\\cdot5\\\\\n",
    "7\\cdot0 + 7\\cdot3 + 1\\cdot4 + 1\\cdot7 & 5\\cdot7 + 7\\cdot9 + 1\\cdot3 + 1\\cdot5 & 7\\cdot5 + 7\\cdot5 + 1\\cdot1 + 1\\cdot5\\\\\n",
    "9\\cdot0 + 7\\cdot3 + 4\\cdot4 + 7\\cdot7 & 9\\cdot7 + 7\\cdot9 + 4\\cdot3 + 7\\cdot5 & 9\\cdot5 + 7\\cdot5 + 4\\cdot1 + 7\\cdot5\\\\\n",
    "\\end{bmatrix}=\n",
    "\\begin{bmatrix}\n",
    "21 + 32 + 63 & 35 + 63 + 24 + 45 & 25 + 35 + 8 + 45\\\\\n",
    "21 + 4 + 7 & 35 + 63 + 3 + 5 & 35 + 35 + 1 + 5\\\\\n",
    "21 + 16 + 49 & 63 + 63 + 12 + 35 & 45 + 35 + 4 + 35\\\\\n",
    "\\end{bmatrix}=\n",
    "\\begin{bmatrix}\n",
    "116 & 167 & 113\\\\\n",
    "32 & 120 & 76\\\\\n",
    "86 & 173 & 119\\\\\n",
    "\\end{bmatrix}\n",
    "$$\n",
    "\n",
    "![1.3](https://i.imgur.com/FN68urd.jpg)"
   ]
  },
  {
   "cell_type": "code",
   "execution_count": 23,
   "id": "e24ed5ba",
   "metadata": {},
   "outputs": [
    {
     "name": "stdout",
     "output_type": "stream",
     "text": [
      "[[116 167 113]\n",
      " [ 32 120  76]\n",
      " [ 86 173 119]]\n"
     ]
    }
   ],
   "source": [
    "result1_3 = np.dot(X,Y)\n",
    "print(result1_3)"
   ]
  },
  {
   "cell_type": "markdown",
   "id": "abc85478",
   "metadata": {},
   "source": [
    "<a id = \"1.4\">1.4</a>\n",
    "$$\n",
    "||a||_{2} = \\sqrt{(4^{2}+4^{2}+7^{2}+6^{2})} = \\sqrt{16 + 16 + 49 + 36} = \\sqrt{117} \\approx 10.816653\n",
    "$$\n",
    "![1.4](https://i.imgur.com/JHXQpDf.jpg)"
   ]
  },
  {
   "cell_type": "code",
   "execution_count": 24,
   "id": "e02a2a03",
   "metadata": {},
   "outputs": [
    {
     "name": "stdout",
     "output_type": "stream",
     "text": [
      "10.816653826391969\n"
     ]
    }
   ],
   "source": [
    "result1_4 = np.linalg.norm(a, ord=2)\n",
    "print(result1_4)"
   ]
  },
  {
   "cell_type": "markdown",
   "id": "4c293a37",
   "metadata": {},
   "source": [
    "### <div style=\"text-align:center\"> [Ερώτημα 2: Υπολογισμός παραγώγων]  </div>\n",
    "<a href=\"#2.1\">2.1</a> Έστω $f(x) = x^{T}Ax + b^{T}x$ , μια συνάρτηση d μεταβλητών, με A συμμετρικό πίνακα (δηλ. $ A = A^{T}$) διάστασης d x d, και $b \\in \\mathbb{R}^{d}$ . Να υπολογίσετε αναλυτικά βήμα προς βήμα με το χέρι,\n",
    "την παράγωγο της $f(x)$ ως προς το διάνυσμα $x \\in \\mathbb{R}^{d}$ παραθέτωντας όλα τα ενδιάμεσα βήματα. <br>\n",
    "Υπενθιμίζεται ότι η παράγωγος μιας συνάρτησης $f:\\mathbb{R}^{d} → \\mathbb{R}, \\nabla f(x)$ ως προς το διάνυσμα $x \\in \\mathbb{R}^{d}$ είναι:\n",
    "$$ \\nabla f(x) = \\begin{bmatrix}\n",
    "\\frac{\\partial f(x)}{\\partial x_1} \\\\\n",
    "\\vdots \\\\\n",
    "\\frac{\\partial f(x)}{\\partial x_d}\n",
    "\\end{bmatrix} \\in \\mathbb{R}^{d} $$ <br>\n",
    "\n",
    "<a href=\"#2.2\">2.2</a> Έστω Α, Β, Χ πίνακες πραγματικών αριθμών διάστασης d x d με τάξη (rank) ίση με d. Nα βρείτε, αναλυτικά και σε κλειστή μορφή (closed form solution) το ολικό ελάχιστο του \n",
    "παρακάτω προβλήματος βελτιστοποίησης: <br>\n",
    "$$ min_{x} ||A - XB||^{2}_{F}$$\n",
    "Να εξηγήσετε με λεπτομέρεια όλη τη διαδικασία σκέψης που θα ακολουθήσετε και να \n",
    "παραθέσετε όλα τα ενδιάμεσα βήματα των πράξεων."
   ]
  },
  {
   "cell_type": "markdown",
   "id": "d8d51225",
   "metadata": {},
   "source": [
    "<a id=\"2.1\">2.1</a> Κάνουμε τις πράξεις:\n",
    "$$f(x) = x^{T}Ax + b^{T}x =$$\n",
    "$$ = \\begin{bmatrix} \n",
    "x_{1} & x_{2} & x_{3} & \\cdots & x_{d} \n",
    "\\end{bmatrix}\n",
    "\\begin{bmatrix} \n",
    "a_{11} & a_{12} & a_{13} & \\cdots & a_{1d} \\\\\n",
    "a_{21} & a_{22} & a_{23} & \\cdots & a_{2d} \\\\\n",
    "\\vdots & \\vdots & \\vdots & \\ddots & \\vdots \\\\\n",
    "a_{d1} & a_{d2} & a_{d3} & \\cdots & a_{dd} \\\\\n",
    "\\end{bmatrix}\n",
    "\\begin{bmatrix} \n",
    "x_{1} \\\\ x_{2} \\\\ x_{3} \\\\ \\vdots \\\\ x_{d} \n",
    "\\end{bmatrix}+\n",
    "\\begin{bmatrix} \n",
    "b_{1} & b_{2} & b_{3} & \\cdots & b_{d} \n",
    "\\end{bmatrix}\n",
    "\\begin{bmatrix} \n",
    "x_{1} \\\\ x_{2} \\\\ x_{3} \\\\ \\vdots \\\\ x_{d} \n",
    "\\end{bmatrix} =\n",
    "$$\n",
    "$$ = \\begin{bmatrix} \n",
    "\\sum_{i=1}^{d} x_{i}a_{i1} & \\sum_{i=1}^{d} x_{i}a_{i2} \\cdots \\sum_{i=1}^{d} x_{i}a_{id}\n",
    "\\end{bmatrix}\n",
    "\\begin{bmatrix} \n",
    "x_{1} \\\\ x_{2} \\\\ x_{3} \\\\ \\vdots \\\\ x_{d} \n",
    "\\end{bmatrix}+\n",
    "\\sum_{i=1}^{d} b_{i} x_{i} =\n",
    "$$\n",
    "$$ = x_{1} \\sum_{i=1}^{d} x_{i}a_{i1} + x_{2}\\sum_{i=1}^{d} x_{i}a_{i2} + \\cdots + x_{d}\\sum_{i=1}^{d} x_{i}a_{id} + \\sum_{i=1}^{d} b_{i} x_{i} =\n",
    "$$\n",
    "$$ = \\sum_{j=1}^{d} x_{j} \\sum_{i=1}^{d} x_{i}a_{ij} + \\sum_{i=1}^{d} b_{i} x_{i} = \n",
    "\\sum_{j=1}^{d} \\sum_{i=1}^{d} x_{j}x_{i}a_{ij} + \\sum_{i=1}^{d} b_{i} x_{i} \\Rightarrow\n",
    "$$\n",
    "$$ \\Rightarrow f(x) = \\sum_{j=1}^{d} \\sum_{i=1}^{d} x_{j}x_{i}a_{ij} + \\sum_{i=1}^{d} b_{i} x_{i} $$  \n",
    "\n",
    "Μπορούμε κιόλας να μεταθέσουμε τα $j-i$ στα αθροίσματα λόγω της συμμετρίας του A (εφόσον δηλαδή $\\sum_{i=1}^{d} \\sum_{j=1}^{d} a_{ij} = \\sum_{i=1}^{d} \\sum_{j=1}^{d} a_{ji}$):\n",
    "$$ f(x) = \\sum_{i=1}^{d} \\sum_{j=1}^{d} x_{j}x_{i}a_{ij} + \\sum_{i=1}^{d} b_{i} x_{i} $$\n",
    "Την αλλαγή αυτή θα την χρειαστούμε οταν προσπαθήσουμε να υπολογήσουμε την μερική παράγωγο για κάποιο πλέον αόριστο $i$.\n",
    "Έχουμε λοίπον: \n",
    "$$ \\frac{\\partial f(x)}{\\partial x_i} = \\frac{\\partial \\sum_{i=1}^{d} \\sum_{j=1}^{d} x_{j}x_{i}a_{ij} + \\sum_{i=1}^{d} b_{i} x_{i}}{\\partial x_i}\n",
    "$$\n",
    "Πολύ απλα, αφού $\\frac{\\partial x}{\\partial x} = 1$ η εξίσωση μας παίρνει την μορφή:\n",
    "$$ \\frac{\\partial f(x)}{\\partial x_i}  = \\sum_{j=1}^{d} x_{j}a_{ij} + b_{i}\n",
    "$$\n",
    "Τότε λοιπόν έχουμε:\n",
    "$$\\nabla f(x) = \\begin{bmatrix}\n",
    "\\sum_{j=1}^{d} x_{j}a_{1j} + b_{1} \\\\\n",
    "\\vdots \\\\\n",
    "\\sum_{j=1}^{d} x_{j}a_{dj} + b_{d}\n",
    "\\end{bmatrix}\n",
    "$$ Λογώ της προσεταιριστικής ιδιότητας της πρόσθεσης των πίνακων μπορούμε να εκφράσουμε την σχέση ως:\n",
    "$$\\nabla f(x) = \\begin{bmatrix}\n",
    "\\sum_{j=1}^{d} x_{j}a_{1j}\\\\\n",
    "\\vdots \\\\\n",
    "\\sum_{j=1}^{d} x_{j}a_{dj}\n",
    "\\end{bmatrix}+\n",
    "\\begin{bmatrix}\n",
    "b_{1} \\\\\n",
    "\\vdots \\\\\n",
    "b_{d}\n",
    "\\end{bmatrix} =\n",
    "\\begin{bmatrix}\n",
    "\\sum_{j=1}^{d} x_{j}a_{1j}\\\\\n",
    "\\vdots \\\\\n",
    "\\sum_{j=1}^{d} x_{j}a_{dj}\n",
    "\\end{bmatrix} +\n",
    "\\vec{b}\n",
    "$$\n",
    "Τέλος παρατηρούμε ότι ο πρώτος πίνακας δεν είναι κανένας άλλος παρά το γινόμενο $A \\vec{x}$, δηλαδή τελικά έχουμε:\n",
    "$$\\nabla f(x) = A \\vec{x} + \\vec{b} $$"
   ]
  },
  {
   "cell_type": "markdown",
   "id": "c786005d",
   "metadata": {},
   "source": [
    "<a id=\"2.2\">2.2</a>"
   ]
  },
  {
   "cell_type": "markdown",
   "id": "50c30e97",
   "metadata": {},
   "source": [
    "### <div style=\"text-align:center\"> [Ερώτημα 3: Gradient descent]  </div>\n",
    "Ο αλγόριθμος gradient descent είναι η πιο διαδεδομένη μέθοδος βελτιστοποίησης στη \n",
    "μηχανική μάθηση. Σε αυτό το ερώτημα καλείστε να υλοποιήσετε σε Python τον αλγόριθμο \n",
    "gradient descent για την ελαχιστοποίηση συναρτήσεων δύο μεταβλητών.\n",
    "Θεωρήστε τις παρακάτω συναρτήσεις:\n",
    "$f_{1}([x_{1},x_{2}]^{T}) = f_{1}(x_{1},x_{2}) = (x_{1} - 2)^{2} + (x_{2} - 3)^{2}$\n",
    "$f_{2}([x_{1},x_{2}]^{T}) = f_{2}(x_{1},x_{2}) = (1 - (x_{2} - 3))^{2} + 20 ((x_{1}+3) - (x_{2} - 3)^{2})^{2}$ <br>\n",
    "Nα υλοποιήσετε σε Python και να εκτελέστε τον αλγόριθμο gradient descent για κάθε \n",
    "συνάρτηση. <br>\n",
    "Να αρχικοποιήσετε τις μεταβλητές με μηδέν. Πρώτα, τρέξτε με ένα σταθερό ποσοστό \n",
    "εκμάθησης (learning rate) ίσο με 0.5. Να εκτελέστε Τ=10 επαναλήψεις και αναφέρετε την \n",
    "τιμή της συνάρτησης στο τέλος κάθε βήματος (επανάληψης). Χρησιμοποιώντας τη matplotlib\n",
    "να σχεδιάσετε γραφήματα (ένα για κάθε συνάρτηση) που να απεικονίζουν την τιμή της \n",
    "συνάρτησης (κάθετος άξονας) ως συνάρτηση των επαναλήψεων (οριζόντιος άξονας). <br>\n",
    "Στη συνέχεια, να επαναλάβετε τη διαδικασία για διαφορετικές τιμές του learning rate και \n",
    "του πλήθους επαναλήψεων (Τ) και αναφέρετε τα αποτελέσματά σας με τη μορφή \n",
    "γραφημάτων όπως στο παραπάνω σκέλος του ερωτήματος. <br>\n",
    "* Πόσες επαναλήψεις χρειάζεται ο αλγόριθμος για να συγκλίνει σε στάσιμο σημείο για \n",
    "διαφορετικές τιμές του learning rate για κάθε συνάρτηση;\n",
    "* Τι συμβαίνει για μεγάλες τιμές του learning rate; \n",
    "* Τι συμβαίνει για μικρές τιμές του learning rate;\n",
    "* Τι συμβαίνει αν χρησιμοποιήσετε διαφορετικές τιμές αρχικοποίησης των \n",
    "μεταβλητών;"
   ]
  }
 ],
 "metadata": {
  "celltoolbar": "Raw Cell Format",
  "kernelspec": {
   "display_name": "Python 3 (ipykernel)",
   "language": "python",
   "name": "python3"
  },
  "language_info": {
   "codemirror_mode": {
    "name": "ipython",
    "version": 3
   },
   "file_extension": ".py",
   "mimetype": "text/x-python",
   "name": "python",
   "nbconvert_exporter": "python",
   "pygments_lexer": "ipython3",
   "version": "3.11.2"
  }
 },
 "nbformat": 4,
 "nbformat_minor": 5
}
